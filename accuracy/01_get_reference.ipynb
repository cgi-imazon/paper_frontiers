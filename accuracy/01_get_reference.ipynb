{
 "cells": [
  {
   "cell_type": "code",
   "execution_count": 24,
   "metadata": {},
   "outputs": [],
   "source": [
    "import pandas as pd\n",
    "import numpy as np\n",
    "from sklearn.metrics import confusion_matrix\n",
    "from glob import glob\n",
    "from pprint import pprint\n",
    "import os\n"
   ]
  },
  {
   "attachments": {},
   "cell_type": "markdown",
   "metadata": {},
   "source": [
    "## Config Session\n",
    "### This session contains static information essential to the code"
   ]
  },
  {
   "cell_type": "code",
   "execution_count": 25,
   "metadata": {},
   "outputs": [],
   "source": [
    "PATH_FILE = 'data/acc'\n",
    "PATH_FILE_OUTPUT = 'data/accuracy.csv'\n",
    "\n",
    "SELECTOR = [\n",
    "    'NEW_PROB', 'year', 'border', 'PESO_AMOS','POINTEDITE',\n",
    "    'AMOSTRAS','REINSP','NEW_PROB','ADJ_FACTOR','PESO_VOT'\n",
    "]\n",
    "\n",
    "REMAP_CLASSES = {\n",
    "    6: 3\n",
    "}\n",
    "\n",
    "# 0 - no, 1 - yes\n",
    "ACCEPT_BORDER = 0\n",
    "\n",
    "YEARS = list(range(2021, 2022, 1))\n",
    "\n",
    "CLASSES = {\n",
    "    3: 'Forest',\n",
    "    4: 'Shrubland',\n",
    "    6: 'Flooded Forest',\n",
    "    11: 'Wetland',\n",
    "    12: 'Natural Grassland',\n",
    "    15: 'Pastureland',\n",
    "    18: 'Cropland',\n",
    "    27: 'Bareland and Impervious',\n",
    "    29: 'Rock Outcrop',\n",
    "    33: 'Water'\n",
    "}\n"
   ]
  },
  {
   "attachments": {},
   "cell_type": "markdown",
   "metadata": {},
   "source": [
    "## Input Data\n",
    "### This session we load the input data, files to perform calculations"
   ]
  },
  {
   "cell_type": "code",
   "execution_count": 26,
   "metadata": {},
   "outputs": [],
   "source": [
    "df_samples = pd.concat([pd.read_csv(x) for x in glob(PATH_FILE + '/*')])\n",
    "df_samples = df_samples[[\n",
    "    'reference', 'classification', 'year', 'border',\n",
    "    'BIOMA', 'AMOSTRAS']]\n",
    "\n",
    "# filter samples\n",
    "df_samples = df_samples.loc[df_samples['reference'].isin(CLASSES.keys())]\n",
    "df_samples = df_samples.query(f'border == {ACCEPT_BORDER}')\n",
    "df_samples = df_samples.query('AMOSTRAS != \"Treinamento\" & BIOMA == \"Amazônia\"')"
   ]
  },
  {
   "attachments": {},
   "cell_type": "markdown",
   "metadata": {},
   "source": [
    "## Helper Functions\n",
    "### Auxiliar functions"
   ]
  },
  {
   "cell_type": "code",
   "execution_count": 36,
   "metadata": {},
   "outputs": [],
   "source": [
    "def calculate_metrics(confusion_matrix, classes):\n",
    "\n",
    "    accuracy_user = {}\n",
    "    accuracy_producer = {}\n",
    "    accuracy_global = {}\n",
    "    precision = {}\n",
    "    recall = {}\n",
    "    f1_score = {}\n",
    "    comission_error = {}\n",
    "    omission_error = {}\n",
    "\n",
    "\n",
    "\n",
    "\n",
    "    for class_name in classes.values():\n",
    "        class_index = df.index.get_loc(class_name)\n",
    "\n",
    "        true_positive = confusion_matrix.iloc[class_index, class_index]\n",
    "        false_positive = confusion_matrix.iloc[class_index, :].sum() - true_positive\n",
    "        false_negative = confusion_matrix.iloc[:, class_index].sum() - true_positive\n",
    "\n",
    "        comission_error[class_name] = false_positive / (true_positive + false_positive) if (true_positive + false_positive) != 0 else 0\n",
    "        omission_error[class_name] = false_negative / (true_positive + false_negative) if (true_positive + false_negative) != 0 else 0\n",
    "\n",
    "        accuracy_user[class_name] = true_positive / (true_positive + false_positive) if (true_positive + false_positive) != 0 else 0\n",
    "        accuracy_producer[class_name] = true_positive / (true_positive + false_negative) if (true_positive + false_negative) != 0 else 0\n",
    "        \n",
    "\n",
    "        precision[class_name] = true_positive / (true_positive + false_positive) if (true_positive + false_positive) != 0 else 0\n",
    "        recall[class_name] = true_positive / (true_positive + false_negative) if (true_positive + false_negative) != 0 else 0\n",
    "        f1_score[class_name] = 2 * (precision[class_name] * recall[class_name]) / (precision[class_name] + recall[class_name]) if (precision[class_name] + recall[class_name]) != 0 else 0\n",
    "\n",
    "    return accuracy_user, accuracy_producer, precision, recall, f1_score, comission_error, omission_error\n",
    "\n"
   ]
  },
  {
   "attachments": {},
   "cell_type": "markdown",
   "metadata": {},
   "source": [
    "## Get Metrics of Accuracy\n",
    "### overall acc, producer, user, precision, recall, f1-score"
   ]
  },
  {
   "cell_type": "code",
   "execution_count": 41,
   "metadata": {},
   "outputs": [],
   "source": [
    "accuracies = {}\n",
    "\n",
    "for year in YEARS:\n",
    "\n",
    "\n",
    "\n",
    "    df_samples_year = df_samples.query(f'year == {year}')\n",
    "\n",
    "    # get reference and predicted lists\n",
    "    y_true = np.array(df_samples_year[['reference']].values).flatten()\n",
    "    y_pred = np.array(df_samples_year[['classification']].values).flatten()\n",
    "\n",
    "\n",
    "\n",
    "    # get confusion matrix\n",
    "    matrix = confusion_matrix(y_true, y_pred)\n",
    "    # matrix_transposed = matrix.transpose()\n",
    "\n",
    "    # get total samples of each class\n",
    "    total_samples = [sum(row) for row in matrix]\n",
    "    total_samples_cls = list(zip(CLASSES.values(), total_samples))\n",
    "\n",
    "\n",
    "\n",
    "    # calculate percentages for each element in the confusion matrix\n",
    "    percentage_data = [[value / total_samples[i] * 100 for value in row] for i, row in enumerate(matrix)]\n",
    "\n",
    "    # create DataFrame with data percentage\n",
    "    df_percentage = pd.DataFrame(\n",
    "        percentage_data, \n",
    "        columns=[CLASSES[key] for key in CLASSES.keys()], index=[CLASSES[key] for key in CLASSES.keys()]\n",
    "    )\n",
    "\n",
    "    # create DataFrame with data keys\n",
    "    df = pd.DataFrame(\n",
    "        matrix, \n",
    "        columns=[CLASSES[key] for key in CLASSES.keys()], index=[CLASSES[key] for key in CLASSES.keys()]\n",
    "    )\n",
    "\n",
    "    accuracy_user, accuracy_producer, accuracy_overall, \\\n",
    "    precision, recall, f1_score, comission_error, omission_error = calculate_metrics(df, CLASSES)\n",
    "\n",
    "    # now get overall accuracy\n",
    "    total_correct = sum([matrix[i][i] for i in range(len(matrix))])\n",
    "    total_samples = np.sum(matrix)\n",
    "    global_accuracy = total_correct / total_samples\n",
    "\n",
    "    \n",
    "    # add accuracy and metrics columns to the DataFrame\n",
    "    df_percentage['Accuracy User'] = [round(accuracy_user[class_name], 2) for class_name in df.index]\n",
    "    df_percentage['Accuracy Producer'] = [round(accuracy_producer[class_name], 2) for class_name in df.index]\n",
    "    df_percentage['Precision'] = [round(precision[class_name], 2) for class_name in df.index]\n",
    "    df_percentage['Recall'] = [round(recall[class_name], 2) for class_name in df.index]\n",
    "    df_percentage['F1-Score'] = [round(f1_score[class_name], 2) for class_name in df.index]\n",
    "    df_percentage['Comission Error'] = [round(comission_error[class_name], 2) for class_name in df.index]\n",
    "    df_percentage['Omission Error'] = [round(omission_error[class_name], 2) for class_name in df.index]\n",
    "\n",
    "    df_percentage = df_percentage.round(2)\n",
    "\n"
   ]
  },
  {
   "cell_type": "code",
   "execution_count": 42,
   "metadata": {},
   "outputs": [
    {
     "data": {
      "text/plain": [
       "0.8833244301994302"
      ]
     },
     "execution_count": 42,
     "metadata": {},
     "output_type": "execute_result"
    }
   ],
   "source": []
  }
 ],
 "metadata": {
  "kernelspec": {
   "display_name": "base",
   "language": "python",
   "name": "python3"
  },
  "language_info": {
   "codemirror_mode": {
    "name": "ipython",
    "version": 3
   },
   "file_extension": ".py",
   "mimetype": "text/x-python",
   "name": "python",
   "nbconvert_exporter": "python",
   "pygments_lexer": "ipython3",
   "version": "3.9.16"
  },
  "orig_nbformat": 4
 },
 "nbformat": 4,
 "nbformat_minor": 2
}
