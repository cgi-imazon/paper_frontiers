{
 "cells": [
  {
   "cell_type": "code",
   "execution_count": 2,
   "metadata": {},
   "outputs": [],
   "source": [
    "import pandas as pd\n",
    "import numpy as np\n",
    "from sklearn.metrics import confusion_matrix\n",
    "from glob import glob\n",
    "import os\n"
   ]
  },
  {
   "attachments": {},
   "cell_type": "markdown",
   "metadata": {},
   "source": [
    "## Config Session\n",
    "### This session contains static information essential to the code"
   ]
  },
  {
   "cell_type": "code",
   "execution_count": 3,
   "metadata": {},
   "outputs": [],
   "source": [
    "PATH_FILE = 'data/acc'\n",
    "PATH_FILE_OUTPUT = 'data/accuracy.csv'\n",
    "\n",
    "SELECTOR = [\n",
    "    'NEW_PROB', 'year', 'border', 'PESO_AMOS','POINTEDITE',\n",
    "    'AMOSTRAS','REINSP','NEW_PROB','ADJ_FACTOR','PESO_VOT'\n",
    "]\n",
    "\n",
    "REMAP_CLASSES = {\n",
    "    6: 3\n",
    "}\n",
    "\n",
    "# 0 - no, 1 - yes\n",
    "ACCEPT_BORDER = 0\n",
    "\n",
    "YEARS = list(range(2021, 2022, 1))\n",
    "\n",
    "CLASSES = {\n",
    "    3: 'Forest',\n",
    "    4: 'Shrubland',\n",
    "    6: 'Flooded Forest',\n",
    "    11: 'Wetland',\n",
    "    12: 'Natural Grassland',\n",
    "    15: 'Pastureland',\n",
    "    18: 'Cropland',\n",
    "    27: 'Bareland and Impervious',\n",
    "    29: 'Rock Outcrop',\n",
    "    33: 'Water'\n",
    "}\n"
   ]
  },
  {
   "attachments": {},
   "cell_type": "markdown",
   "metadata": {},
   "source": [
    "## Input Data\n",
    "### This session we load the input data, files to perform calculations"
   ]
  },
  {
   "cell_type": "code",
   "execution_count": 4,
   "metadata": {},
   "outputs": [],
   "source": [
    "df_samples = pd.concat([pd.read_csv(x) for x in glob(PATH_FILE + '/*')])\n",
    "df_samples = df_samples[[\n",
    "    'reference', 'classification', 'year', 'border',\n",
    "    'BIOMA', 'AMOSTRAS']]\n",
    "\n",
    "# filter samples\n",
    "df_samples = df_samples.loc[df_samples['reference'].isin(CLASSES.keys())]\n",
    "df_samples = df_samples.query(f'border == {ACCEPT_BORDER}')\n",
    "df_samples = df_samples.query('AMOSTRAS != \"Treinamento\" & BIOMA == \"Amazônia\"')"
   ]
  },
  {
   "attachments": {},
   "cell_type": "markdown",
   "metadata": {},
   "source": [
    "## Helper Functions\n",
    "### Auxiliar functions"
   ]
  },
  {
   "cell_type": "code",
   "execution_count": 5,
   "metadata": {},
   "outputs": [],
   "source": [
    "def calculate_metrics(confusion_matrix, classes):\n",
    "\n",
    "    accuracy_user = {}\n",
    "    accuracy_producer = {}\n",
    "    accuracy_overall = {}\n",
    "    precision = {}\n",
    "    recall = {}\n",
    "    f1_score = {}\n",
    "\n",
    "    for class_name in classes.values():\n",
    "        class_index = df.index.get_loc(class_name)\n",
    "\n",
    "        true_positive = confusion_matrix.iloc[class_index, class_index]\n",
    "        false_positive = confusion_matrix.iloc[class_index, :].sum() - true_positive\n",
    "        false_negative = confusion_matrix.iloc[:, class_index].sum() - true_positive\n",
    "\n",
    "        accuracy_user[class_name] = true_positive / (true_positive + false_positive) if (true_positive + false_positive) != 0 else 0\n",
    "        accuracy_producer[class_name] = true_positive / (true_positive + false_negative) if (true_positive + false_negative) != 0 else 0\n",
    "        accuracy_overall[class_name] = (true_positive + confusion_matrix.values.sum() - confusion_matrix.iloc[class_index, :].sum() - confusion_matrix.iloc[:, class_index].sum()) / confusion_matrix.values.sum()\n",
    "\n",
    "        precision[class_name] = true_positive / (true_positive + false_positive) if (true_positive + false_positive) != 0 else 0\n",
    "        recall[class_name] = true_positive / (true_positive + false_negative) if (true_positive + false_negative) != 0 else 0\n",
    "        f1_score[class_name] = 2 * (precision[class_name] * recall[class_name]) / (precision[class_name] + recall[class_name]) if (precision[class_name] + recall[class_name]) != 0 else 0\n",
    "\n",
    "    return accuracy_user, accuracy_producer, accuracy_overall, precision, recall, f1_score\n",
    "\n"
   ]
  },
  {
   "attachments": {},
   "cell_type": "markdown",
   "metadata": {},
   "source": [
    "## Get Metrics of Accuracy\n",
    "### overall acc, producer, user, precision, recall, f1-score"
   ]
  },
  {
   "cell_type": "code",
   "execution_count": 7,
   "metadata": {},
   "outputs": [
    {
     "name": "stdout",
     "output_type": "stream",
     "text": [
      "           Forest  Shrubland  Flooded Forest   Wetland  Natural Grassland  \\\n",
      "Forest  93.932722    0.12844        3.944954  0.189602           0.385321   \n",
      "\n",
      "        Pastureland  Cropland  Bareland and Impervious  Rock Outcrop  \\\n",
      "Forest     1.351682  0.018349                      0.0      0.030581   \n",
      "\n",
      "           Water  Accuracy User  Accuracy Producer  Accuracy Overall  \\\n",
      "Forest  0.018349           0.94               0.41              0.76   \n",
      "\n",
      "        Precision  Recall  F1-Score  \n",
      "Forest       0.94    0.41      0.57  \n"
     ]
    }
   ],
   "source": [
    "\n",
    "for year in YEARS:\n",
    "\n",
    "\n",
    "\n",
    "    df_samples_year = df_samples.query(f'year == {year}')\n",
    "\n",
    "    # get reference and predicted lists\n",
    "    y_true = np.array(df_samples_year[['reference']].values).flatten()\n",
    "    y_pred = np.array(df_samples_year[['classification']].values).flatten()\n",
    "\n",
    "\n",
    "\n",
    "    # get confusion matrix\n",
    "    matrix = confusion_matrix(y_true, y_pred)\n",
    "    matrix_transposed = matrix.transpose()\n",
    "\n",
    "    # get total samples of each class\n",
    "    total_samples = [sum(row) for row in matrix]\n",
    "\n",
    "\n",
    "    # calculate percentages for each element in the confusion matrix\n",
    "    percentage_data = [[value / total_samples[i] * 100 for value in row] for i, row in enumerate(matrix)]\n",
    "\n",
    "\n",
    "\n",
    "    # create DataFrame with percentage data\n",
    "    df = pd.DataFrame(\n",
    "        percentage_data, \n",
    "        columns=[CLASSES[key] for key in CLASSES.keys()], index=[CLASSES[key] for key in CLASSES.keys()]\n",
    "    )\n",
    "\n",
    "\n",
    "    accuracy_user, accuracy_producer, accuracy_overall, precision, recall, f1_score = calculate_metrics(df, CLASSES)\n",
    "    \n",
    "    # add accuracy and metrics columns to the DataFrame\n",
    "    df['Accuracy User'] = [round(accuracy_user[class_name], 2) for class_name in df.index]\n",
    "    df['Accuracy Producer'] = [round(accuracy_producer[class_name], 2) for class_name in df.index]\n",
    "    df['Accuracy Overall'] = [round(accuracy_overall[class_name], 2) for class_name in df.index]\n",
    "    df['Precision'] = [round(precision[class_name], 2) for class_name in df.index]\n",
    "    df['Recall'] = [round(recall[class_name], 2) for class_name in df.index]\n",
    "    df['F1-Score'] = [round(f1_score[class_name], 2) for class_name in df.index]\n",
    "\n",
    "\n",
    "\n"
   ]
  }
 ],
 "metadata": {
  "kernelspec": {
   "display_name": "base",
   "language": "python",
   "name": "python3"
  },
  "language_info": {
   "codemirror_mode": {
    "name": "ipython",
    "version": 3
   },
   "file_extension": ".py",
   "mimetype": "text/x-python",
   "name": "python",
   "nbconvert_exporter": "python",
   "pygments_lexer": "ipython3",
   "version": "3.9.16"
  },
  "orig_nbformat": 4
 },
 "nbformat": 4,
 "nbformat_minor": 2
}
